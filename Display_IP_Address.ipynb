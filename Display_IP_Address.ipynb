{
  "nbformat": 4,
  "nbformat_minor": 0,
  "metadata": {
    "colab": {
      "name": "Display IP Address.ipynb",
      "provenance": []
    },
    "kernelspec": {
      "name": "python3",
      "display_name": "Python 3"
    },
    "language_info": {
      "name": "python"
    }
  },
  "cells": [
    {
      "cell_type": "code",
      "metadata": {
        "id": "lYOdgNDnADhG"
      },
      "source": [
        "#Display IP Address\n",
        "import socket\n",
        "hostname = socket.gethostname ()\n",
        "IPAddr = socket.gethostbyname (hostname)\n",
        "print (\"My IP Adderss is: \" + IPAddr)"
      ],
      "execution_count": null,
      "outputs": []
    }
  ]
}