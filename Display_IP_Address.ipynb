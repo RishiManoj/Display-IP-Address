{
  "nbformat": 4,
  "nbformat_minor": 0,
  "metadata": {
    "colab": {
      "name": "Display IP Address.ipynb",
      "provenance": []
    },
    "kernelspec": {
      "name": "python3",
      "display_name": "Python 3"
    },
    "language_info": {
      "name": "python"
    }
  },
  "cells": [
    {
      "cell_type": "code",
      "metadata": {
        "colab": {
          "base_uri": "https://localhost:8080/"
        },
        "id": "lYOdgNDnADhG",
        "outputId": "7cbfd9f9-2192-447a-f3e4-ded3cc2ca6a7"
      },
      "source": [
        "#Display IP Address\n",
        "import socket\n",
        "hostname = socket.gethostname ()\n",
        "IPAddr = socket.gethostbyname (hostname)\n",
        "print (\"My IP Adderss is: \" + IPAddr)"
      ],
      "execution_count": 4,
      "outputs": [
        {
          "output_type": "stream",
          "name": "stdout",
          "text": [
            "My IP Adderss is: 172.28.0.2\n"
          ]
        }
      ]
    }
  ]
}